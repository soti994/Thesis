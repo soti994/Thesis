{
 "cells": [
  {
   "cell_type": "code",
   "execution_count": 1,
   "metadata": {},
   "outputs": [],
   "source": [
    "#Disabling auto-scroll of outputs\n",
    "\n",
    "from IPython.display import HTML, display\n",
    "\n",
    "def set_css():\n",
    "  display(HTML('''\n",
    "  <style>\n",
    "    pre {\n",
    "        white-space: pre-wrap;\n",
    "    }\n",
    "  </style>\n",
    "  '''))"
   ]
  },
  {
   "cell_type": "code",
   "execution_count": 2,
   "metadata": {},
   "outputs": [],
   "source": [
    "from datetime import datetime\n",
    "start_time = datetime.now()"
   ]
  },
  {
   "cell_type": "code",
   "execution_count": 3,
   "metadata": {},
   "outputs": [],
   "source": [
    "import pandas as pd\n",
    "import numpy as np\n",
    "import matplotlib.pyplot as plt\n",
    "import matplotlib.cm as cm\n",
    "import nltk\n",
    "import seaborn as sns\n",
    "import re\n",
    "import string \n",
    "import gensim.downloader as api\n",
    "from autocorrect import Speller\n",
    "from wordcloud import WordCloud\n",
    "from emot.emo_unicode import UNICODE_EMO, EMOTICONS, EMOTICONS_EMO\n",
    "from collections import Counter\n",
    "from num2words import num2words\n",
    "from nltk import word_tokenize, pos_tag\n",
    "from nltk.tokenize import word_tokenize,TweetTokenizer\n",
    "from nltk.corpus import stopwords\n",
    "from nltk.stem.wordnet import WordNetLemmatizer\n",
    "from nltk.corpus import wordnet\n",
    "from pycontractions import Contractions\n",
    "import matplotlib.dates as mdates\n",
    "from matplotlib.dates import DateFormatter\n",
    "# Handle date time conversions between pandas and matplotlib\n",
    "#from pandas.plotting import register_matplotlib_converters\n",
    "#register_matplotlib_converters()\n",
    "from cycler import cycler\n",
    "stop_words = set(stopwords.words('english'))\n",
    "\n",
    "%matplotlib inline"
   ]
  },
  {
   "cell_type": "code",
   "execution_count": 4,
   "metadata": {},
   "outputs": [
    {
     "name": "stdout",
     "output_type": "stream",
     "text": [
      "0\n"
     ]
    }
   ],
   "source": [
    "train1 = pd.read_csv(\"Corona_NLP_train.csv\", delimiter=',', encoding= 'ISO-8859-1')\n",
    "test = pd.read_csv(\"Corona_NLP_test.csv\", delimiter=',', encoding= 'ISO-8859-1')\n",
    "#data = [train1, test]\n",
    "\n",
    "#train = pd.concat(data)\n",
    "train= train1\n",
    "#print(train1.isna().sum(), test.isna().sum())\n",
    "print(train1.OriginalTweet.str.isalpha().sum())"
   ]
  },
  {
   "cell_type": "code",
   "execution_count": 5,
   "metadata": {},
   "outputs": [
    {
     "data": {
      "text/plain": [
       "Positive              11422\n",
       "Negative               9917\n",
       "Neutral                7713\n",
       "Extremely Positive     6624\n",
       "Extremely Negative     5481\n",
       "Name: Sentiment, dtype: int64"
      ]
     },
     "execution_count": 5,
     "metadata": {},
     "output_type": "execute_result"
    }
   ],
   "source": [
    "train['Sentiment'].value_counts()"
   ]
  },
  {
   "cell_type": "code",
   "execution_count": 6,
   "metadata": {
    "scrolled": true
   },
   "outputs": [
    {
     "name": "stdout",
     "output_type": "stream",
     "text": [
      "Probability a priori for class\t Negative : 0.374\t Neutral : 0.187\t Positive: 0.438\n"
     ]
    }
   ],
   "source": [
    "#\"Extremely Negative\": -1, \"Negative\": -1, \"Neutral\": 0, \"Positive\": 1, \"Extremely Positive\": 1\n",
    "\n",
    "def change_values(string):\n",
    "    if string == \"Extremely Negative\":\n",
    "        return 0\n",
    "    elif string == \"Negative\":\n",
    "        return 0\n",
    "    elif string == \"Positive\":\n",
    "        return 2 \n",
    "    elif string == \"Extremely Positive\":\n",
    "        return 2\n",
    "    elif string == \"Neutral\":\n",
    "        return 1 \n",
    "    \n",
    "train['Sentiment'] = train['Sentiment'].apply(change_values)\n",
    "\n",
    "#Probability\n",
    "n0 = train['Sentiment'].value_counts()[0]\n",
    "n1 = train['Sentiment'].value_counts()[1]\n",
    "n2 = train['Sentiment'].value_counts()[2]\n",
    "n = n0 + n1 +n2\n",
    "\n",
    "p0 = n0 / n\n",
    "p1 = n1 / n \n",
    "p2 = n2 / n\n",
    "\n",
    "print(\"Probability a priori for class\\t Negative : {}\\t Neutral : {}\\t Positive: {}\".format(\n",
    "     round(p0, 3), round(p1, 3), round(p2, 3)))"
   ]
  },
  {
   "cell_type": "code",
   "execution_count": 7,
   "metadata": {},
   "outputs": [],
   "source": [
    "#Drop 'ScreenName', 'Location', 'TweetAt' Columns\n",
    "train = train.drop(['ScreenName', 'TweetAt'], axis=1)\n",
    "#pd.set_option('display.max_colwidth', -1)\n",
    "#print(train)"
   ]
  },
  {
   "cell_type": "code",
   "execution_count": 8,
   "metadata": {},
   "outputs": [
    {
     "data": {
      "text/plain": [
       "\"date1 = pd.to_datetime(train['TweetAt'], errors='coerce', \\n                       format='%d/%m/%Y')\\ndate2 = pd.to_datetime(train['TweetAt'], errors='coerce',\\n                       format='%d-%m-%Y')\\ntrain['TweetAt'] = date1.fillna(date2)\\nprint (train['TweetAt'])\""
      ]
     },
     "execution_count": 8,
     "metadata": {},
     "output_type": "execute_result"
    }
   ],
   "source": [
    "#print (train['TweetAt'])\n",
    "'''date1 = pd.to_datetime(train['TweetAt'], errors='coerce', \n",
    "                       format='%d/%m/%Y')\n",
    "date2 = pd.to_datetime(train['TweetAt'], errors='coerce',\n",
    "                       format='%d-%m-%Y')\n",
    "train['TweetAt'] = date1.fillna(date2)\n",
    "print (train['TweetAt'])'''"
   ]
  },
  {
   "cell_type": "code",
   "execution_count": 9,
   "metadata": {},
   "outputs": [],
   "source": [
    "#Counter columns\n",
    "\n",
    "#train['count_sentences']=train['OriginalTweet'].str.count('[\\w][\\.!\\?]').clip(lower=1)\n",
    "train['count_words'] = train['OriginalTweet'].apply(lambda x: \n",
    "                                    len(str(x).split()))\n",
    "train['count_unique_words'] = train['OriginalTweet'].apply(lambda x: \n",
    "                                    len(set(str(x).split())))\n",
    "train['count_letters'] = train['OriginalTweet'].apply(lambda x: \n",
    "                                    len(str(x)))\n",
    "train['count_stopwords'] = train['OriginalTweet'].apply(lambda x: \n",
    "        len([w for w in str(x).lower().split() if w in stop_words]))\n",
    "train['mean_word_len'] = train['OriginalTweet'].apply(lambda x: \n",
    "                        np.mean([len(w) for w in str(x).split()]))\n",
    "train['count_mentions'] = train['OriginalTweet'].str.findall(\n",
    "                 r'(?<=^|(?<=[^a-zA-Z0-9-_\\.]))@([A-Za-z]+[A-Za-z0-9-_]+)').str.len()\n",
    "train['count_hashtags'] = train['OriginalTweet'].str.findall(\n",
    "                        r'#([A-Za-z0-9_]+)').str.len()\n",
    "train['count_words_upper'] = train['OriginalTweet'].apply(lambda x: \n",
    "                    len([w for w in str(x).split() if w.isupper()]))\n",
    "train['count_words_title'] = train['OriginalTweet'].apply(lambda x: \n",
    "                    len([w for w in str(x).split() if w.istitle()]))\n",
    "train['count_excl_quest_marks'] = train['OriginalTweet'].str.findall(\n",
    "                        r'(!|\\?)').str.len()\n",
    "train['count_urls'] = train['OriginalTweet'].str.findall(\n",
    "                        r'http\\S+|www\\S+|https\\S+').str.len()\n",
    "\n",
    "#print(train['count_sentences'].head(20))\n",
    "#punctuation count\n",
    "#twitter_data[\"count_punctuations\"] =twitter_data[\"full_text\"].apply(lambda x: len([c for c in str(x) if c in string.punctuation]))"
   ]
  },
  {
   "cell_type": "code",
   "execution_count": 10,
   "metadata": {},
   "outputs": [
    {
     "data": {
      "text/plain": [
       "<matplotlib.legend.Legend at 0x2c8bbe7e488>"
      ]
     },
     "execution_count": 10,
     "metadata": {},
     "output_type": "execute_result"
    },
    {
     "data": {
      "image/png": "[encoded data removed]",
      "text/plain": [
       "<Figure size 864x432 with 1 Axes>"
      ]
     },
     "metadata": {
      "needs_background": "light"
     },
     "output_type": "display_data"
    }
   ],
   "source": [
    "# plot word count distribution for positive, neutral and negative sentiments\n",
    "x = train['count_words'][train.Sentiment == 0]\n",
    "y = train['count_words'][train.Sentiment == 1]\n",
    "z = train['count_words'][train.Sentiment == 2]\n",
    "plt.figure(figsize=(12,6))\n",
    "plt.xlim(0,45)\n",
    "plt.xlabel('word count')\n",
    "plt.ylabel('frequency')\n",
    "g = plt.hist([x, y, z], color=['r','b', 'g'], alpha=0.5, label=['negative', 'neutral', 'positive'])\n",
    "plt.legend(loc='upper right')"
   ]
  },
  {
   "cell_type": "code",
   "execution_count": 11,
   "metadata": {},
   "outputs": [
    {
     "name": "stdout",
     "output_type": "stream",
     "text": [
      "My food stock is not the only one which is empty...\r",
      "\r\n",
      "\r",
      "\r\n",
      "PLEASE, don't panic, THERE WILL BE ENOUGH FOOD FOR EVERYONE if you do not take more than you need. \r",
      "\r\n",
      "Stay calm, stay safe.\r",
      "\r\n",
      "\r",
      "\r\n",
      "#COVID19france #COVID_19 #COVID19 #coronavirus #confinement #Confinementotal #ConfinementGeneral https://t.co/zrlG0Z520j\n"
     ]
    }
   ],
   "source": [
    "#&amp; removal to and\n",
    "train['EditedTweet'] = train['OriginalTweet'].replace(\n",
    "                r'&amp;', ' and ', regex=True)\n",
    "train['EditedTweet'] = train['EditedTweet'].replace(\n",
    "                r'&lt;', ' ', regex=True)\n",
    "train['EditedTweet'] = train['EditedTweet'].replace(\n",
    "                r'&gt;', ' ', regex=True)\n",
    "print(train['EditedTweet'][3])"
   ]
  },
  {
   "cell_type": "code",
   "execution_count": 12,
   "metadata": {
    "scrolled": false
   },
   "outputs": [
    {
     "name": "stdout",
     "output_type": "stream",
     "text": [
      "@TinaMcCauley70 Yeah my parents are risky people to the covid 19 thats why we stay at home just go to the supermarket when really necessary.. stay safe too ....\n",
      "Food banks forced to close amid coronavirus outbreak https://t.co/ChGUNZPP4W Independent #Corona #wiwt #Covid19 #friday #update #who #tbt\n"
     ]
    }
   ],
   "source": [
    "#non-ASCII character removal\n",
    "#train['EditedTweet'] = train['OriginalTweet'].replace(\n",
    " #               r'Ã‚Â', \"'\", regex=True)\n",
    "train['EditedTweet'] = train['EditedTweet'].str.encode('ascii', \n",
    "                            'ignore').str.decode('ascii')\n",
    "print(train['EditedTweet'][68])\n",
    "print(train['EditedTweet'][2098])"
   ]
  },
  {
   "cell_type": "code",
   "execution_count": 13,
   "metadata": {},
   "outputs": [
    {
     "name": "stdout",
     "output_type": "stream",
     "text": [
      "@MeNyrbie @Phil_Gahan @Chrisitv  <url>  and  <url>  and  <url> \n"
     ]
    }
   ],
   "source": [
    "#Link replacement\n",
    "train['EditedTweet'] = train['EditedTweet'].replace(\n",
    "                r'http\\S+|www\\S+|https\\S+', ' <url> ', regex=True)\n",
    "print(train['EditedTweet'][0])"
   ]
  },
  {
   "cell_type": "code",
   "execution_count": 14,
   "metadata": {},
   "outputs": [
    {
     "name": "stdout",
     "output_type": "stream",
     "text": [
      " <user>   <user>   <user>   <url>  and  <url>  and  <url> \n"
     ]
    }
   ],
   "source": [
    "#Mention replacement (with e-mail handling)\n",
    "train['EditedTweet'] = train['EditedTweet'].replace(\n",
    "    r'(?<=^|(?<=[^a-zA-Z0-9-_\\.]))@([A-Za-z]+[A-Za-z0-9-_]+)', ' <user> ', regex=True)\n",
    "pd.set_option('display.max_colwidth', -1)\n",
    "print(train['EditedTweet'][0])"
   ]
  },
  {
   "cell_type": "code",
   "execution_count": 15,
   "metadata": {},
   "outputs": [
    {
     "name": "stdout",
     "output_type": "stream",
     "text": [
      "   UserName Location  \\\n",
      "3  3802      NaN       \n",
      "\n",
      "                                                                                                                                                                                                                                                                                                                       OriginalTweet  \\\n",
      "3  My food stock is not the only one which is empty...\\r\\r\\n\\r\\r\\nPLEASE, don't panic, THERE WILL BE ENOUGH FOOD FOR EVERYONE if you do not take more than you need. \\r\\r\\nStay calm, stay safe.\\r\\r\\n\\r\\r\\n#COVID19france #COVID_19 #COVID19 #coronavirus #confinement #Confinementotal #ConfinementGeneral https://t.co/zrlG0Z520j   \n",
      "\n",
      "   Sentiment  count_words  count_unique_words  count_letters  count_stopwords  \\\n",
      "3  2          42           39                  306            19                \n",
      "\n",
      "   mean_word_len  count_mentions  count_hashtags  count_words_upper  \\\n",
      "3  6.0            0               7               10                  \n",
      "\n",
      "   count_words_title  count_excl_quest_marks  count_urls  \\\n",
      "3  3                  0                       1            \n",
      "\n",
      "                                                                                                                                                                                                                                                                                            EditedTweet  \n",
      "3  My food stock is not the only one which is empty...\\r\\r\\n\\r\\r\\nPLEASE, don't panic, THERE WILL BE ENOUGH FOOD FOR EVERYONE if you do not take more than you need. \\r\\r\\nStay calm, stay safe.\\r\\r\\n\\r\\r\\n <hashtag>   <hashtag>   <hashtag>   <hashtag>   <hashtag>   <hashtag>   <hashtag>   <url>   \n"
     ]
    }
   ],
   "source": [
    "#Hashtag replacement\n",
    "train['EditedTweet'] = train['EditedTweet'].replace(\n",
    "    r'#([A-Za-z0-9_]+)', ' <hashtag> ', regex=True)\n",
    "#    r'([#])','', regex=True)\n",
    "print(train[train['UserName']==3802])"
   ]
  },
  {
   "cell_type": "code",
   "execution_count": 16,
   "metadata": {},
   "outputs": [
    {
     "name": "stdout",
     "output_type": "stream",
     "text": [
      "Due to COVID-19 our retail store and classroom in Atlanta will not be open for walk-in business or classes for the next two weeks, beginning Monday, March 16.  We will continue to process online and phone orders as normal! Thank you for your understanding!  <url> \n"
     ]
    }
   ],
   "source": [
    "#removal of more of two consequtive characters\n",
    "train['EditedTweet'] = train['EditedTweet'].str.replace(r'(.)\\1+', r'\\1\\1')\n",
    "print(train['EditedTweet'][8])"
   ]
  },
  {
   "cell_type": "code",
   "execution_count": 17,
   "metadata": {},
   "outputs": [
    {
     "data": {
      "text/plain": [
       "'EMOTICONS = {k: v for (k, v) in EMOTICONS.items() if v != \\'Confusion\\'}\\n\\n# Converting emojis to words\\ndef convert_emojis(text):\\n    for emot in UNICODE_EMO:\\n        text = text.replace(emot, \"_\".join(UNICODE_EMO[emot].replace(\\n                \",\",\"\").replace(\":\",\"\").split()))\\n    return text\\n    \\n# Converting emoticons to words    \\ndef convert_emoticons(text):\\n    for emot in EMOTICONS:\\n        text = re.sub(u\\'(\\'+emot+\\')\\', \"\".join(EMOTICONS[emot].replace(\\n                \",\",\"\").split()), text)\\n    return text\\n\\n# Passing both functions to \\'EditedTweet\\'\\ntrain[\\'EditedTweet\\'] = train[\\'EditedTweet\\'].apply(convert_emoticons)\\ntrain[\\'EditedTweet\\'] = train[\\'EditedTweet\\'].apply(convert_emojis)\\nprint(train[\\'EditedTweet\\'][0])'"
      ]
     },
     "execution_count": 17,
     "metadata": {},
     "output_type": "execute_result"
    }
   ],
   "source": [
    "'''EMOTICONS = {k: v for (k, v) in EMOTICONS.items() if v != 'Confusion'}\n",
    "\n",
    "# Converting emojis to words\n",
    "def convert_emojis(text):\n",
    "    for emot in UNICODE_EMO:\n",
    "        text = text.replace(emot, \"_\".join(UNICODE_EMO[emot].replace(\n",
    "                \",\",\"\").replace(\":\",\"\").split()))\n",
    "    return text\n",
    "    \n",
    "# Converting emoticons to words    \n",
    "def convert_emoticons(text):\n",
    "    for emot in EMOTICONS:\n",
    "        text = re.sub(u'('+emot+')', \"\".join(EMOTICONS[emot].replace(\n",
    "                \",\",\"\").split()), text)\n",
    "    return text\n",
    "\n",
    "# Passing both functions to 'EditedTweet'\n",
    "train['EditedTweet'] = train['EditedTweet'].apply(convert_emoticons)\n",
    "train['EditedTweet'] = train['EditedTweet'].apply(convert_emojis)\n",
    "print(train['EditedTweet'][0])'''"
   ]
  },
  {
   "cell_type": "code",
   "execution_count": 18,
   "metadata": {},
   "outputs": [
    {
     "name": "stdout",
     "output_type": "stream",
     "text": [
      "Due to COVID-19 our retail store and classroom in Atlanta will not be open for walk-in business or classes for the next two weeks, beginning Monday, March 16.  We will continue to process online and phone orders as normal! Thank you for your understanding!  <url> \n"
     ]
    }
   ],
   "source": [
    "#Contraction correction ex. wouldn't->would not \n",
    "\n",
    "#download the model we will use\n",
    "model = api.load(\"glove-twitter-25\")\n",
    "cont = Contractions(kv_model=model)\n",
    "train['EditedTweet'] = list(cont.expand_texts(train['EditedTweet'],precise=True))\n",
    "print(train['EditedTweet'][8])"
   ]
  },
  {
   "cell_type": "code",
   "execution_count": 19,
   "metadata": {},
   "outputs": [],
   "source": [
    "#number replacement\n",
    "train['EditedTweet'] = train['EditedTweet'].str.replace(\n",
    "   #  '(\\d+(\\.\\d+)?)|(\\d+(\\,\\d+)?)', r' <number> ') #add space \n",
    "    '(\\d+\\.\\d+)|(\\d+(\\,\\d+)*)', r' <number> ')\n",
    "\n",
    " "
   ]
  },
  {
   "cell_type": "code",
   "execution_count": 20,
   "metadata": {},
   "outputs": [
    {
     "name": "stdout",
     "output_type": "stream",
     "text": [
      "<user> <user> <user> <user> <user> <user> <user> This is both disgusting and disgraceful charging over inflated prices for items for stopping the spread of COVID- <number> , the government really needs to do something abou\n",
      "Due to COVID- <number> our retail store and classroom in Atlanta will not be open for walk-in business or classes for the next two weeks, beginning Monday, March <number> . We will continue to process online and phone orders as normal! Thank you for your understanding! <url>\n",
      "San Francisco. Line to get in to a grocery store. does not open until <number> pm Eastern. This is day one of <hashtag> and do not stand closer than <number> feet apart. <hashtag> <hashtag> <hashtag> <hashtag> <url>\n"
     ]
    }
   ],
   "source": [
    "abbr_dict={\n",
    "    \"lol\":\"laughing out loud\",\n",
    "    \"mkt\":\"market\",\n",
    "    \"diy\":\"do it yourself\",\n",
    "    \"u\":\"you\",\n",
    "    \"gonna\":\"going to\",\n",
    "    \"fav\":\"favorite\",\n",
    "    \"btw\":\"by the way\",\n",
    "    \"omg\":\"oh my god\",\n",
    "    \"n\":\"and\",\n",
    "    \"ppl\":\"people\",\n",
    "    \"tv\":\"television\",\n",
    "    \"ya\":\"yeah\",\n",
    "    \"r\":\"are\",\n",
    "    \"o\":\"oh\",\n",
    "    \"pics\":\"pictures\",\n",
    "    \"pic\":\"picture\",\n",
    "    \" RT \":\"retweet\",\n",
    "    \"wtf\":\"what the fuck\",\n",
    "    \"wanna\":\"want to\",\n",
    "    \"kinda\":\"kind of\",\n",
    "    \"ok\":\"okay\",\n",
    "    \"ur\":\"your\",\n",
    "    \"ya\":\"yeah\",\n",
    "    \"pls\":\"please\",\n",
    "    \"bc\": \"because\",\n",
    "    \"fyi\": \"for your information\",\n",
    "    \"dm\": \"direct message\",\n",
    "    \"soo\": \"so\",\n",
    "    \"Soo\": \"so\",\n",
    "    \":)\": \"<smile>\",\n",
    "    \":-)\": \"<smile>\",\n",
    "    \";)\": \"<smile>\",\n",
    "    \";-)\": \"<smile>\",\n",
    "    \":(\": \"<sadface>\",\n",
    "    \":-(\": \"<sadface>\",\n",
    "    \":'(\": \"<sadface>\",\n",
    " \n",
    "}\n",
    "\n",
    "train['EditedTweet'] = train['EditedTweet'].apply(\n",
    "    lambda x: ' '.join([abbr_dict.get(e, e) for e in x.split()]))\n",
    "\n",
    "print(train['EditedTweet'][78])\n",
    "print(train['EditedTweet'][8])\n",
    "print(train['EditedTweet'][2053])"
   ]
  },
  {
   "cell_type": "code",
   "execution_count": 21,
   "metadata": {},
   "outputs": [
    {
     "name": "stdout",
     "output_type": "stream",
     "text": [
      "     UserName       Location  \\\n",
      "236  4035      San Diego, CA   \n",
      "\n",
      "                                                                                                                                                                                                                                                    OriginalTweet  \\\n",
      "236  What's a good way to support grocery store, medical, and hospital staff during this time? I would normally think of something along the lines of ordering everyone pizza, but that doesn't seem like a great idea about now... #COVID2019 #COVID19 #COVID?19   \n",
      "\n",
      "     Sentiment  count_words  count_unique_words  count_letters  \\\n",
      "236  2          41           39                  252             \n",
      "\n",
      "     count_stopwords  mean_word_len  count_mentions  count_hashtags  \\\n",
      "236  14               5.170732       0               3                \n",
      "\n",
      "     count_words_upper  count_words_title  count_excl_quest_marks  count_urls  \\\n",
      "236  4                  1                  2                       0            \n",
      "\n",
      "                                                                                                                                                                                                                                                                  EditedTweet  \n",
      "236  what is a good way to support grocery store, medical, and hospital staff during this time? I would normally think of something along the lines of ordering everyone pizza, but that does not seem like a great idea about now.. <hashtag> <hashtag> <hashtag> ? <number>  \n",
      "<user> <user> <user> <user> <user> <user> <user> This is both disgusting and disgraceful charging over inflated prices for items for stopping the spread of COVID  <number> , the government really needs to do something abou\n",
      "Due to COVID  <number> our retail store and classroom in Atlanta will not be open for walk in business or classes for the next two weeks, beginning Monday, March <number> . We will continue to process online and phone orders as normal! Thank you for your understanding! <url>\n"
     ]
    }
   ],
   "source": [
    "\n",
    "#if tweet starts with \".\", start sentence with the next character \n",
    "train['EditedTweet'] = train['EditedTweet'].apply(\n",
    "    lambda x : x[1:] if x.startswith(\".\") else x)\n",
    "\n",
    "#train['EditedTweet'] = train['EditedTweet'].str.replace(\n",
    "#    r'([!\"\\$%&()*+,.\\/:;=#@?\\[\\\\\\]^_`{|}~]+)', r' \\1 ', regex=True)\n",
    "\n",
    "train['EditedTweet'] = train['EditedTweet'].str.replace(\n",
    "    r'([\\-])',r' ', regex=True)\n",
    "\n",
    "\n",
    "print(train[train['UserName']==4035])\n",
    "\n",
    "'''#Punctuation removal\n",
    "\n",
    "RE_PUNCTUATION = '|'.join([re.escape(x) for x in string.punctuation])\n",
    "train[\"EditedTweet\"] = train['EditedTweet'].str.replace(RE_PUNCTUATION, \" \")'''\n",
    "print(train['EditedTweet'][78])\n",
    "print(train['EditedTweet'][8])"
   ]
  },
  {
   "cell_type": "code",
   "execution_count": 22,
   "metadata": {},
   "outputs": [
    {
     "name": "stdout",
     "output_type": "stream",
     "text": [
      "<user> <user> <user> <url> and <url> and <url>\n"
     ]
    }
   ],
   "source": [
    "#Redundant space removal \n",
    "train['EditedTweet'] = train['EditedTweet'].replace('\\s+', ' ', regex=True)\n",
    "print(train['EditedTweet'][0])"
   ]
  },
  {
   "cell_type": "code",
   "execution_count": 23,
   "metadata": {},
   "outputs": [
    {
     "name": "stdout",
     "output_type": "stream",
     "text": [
      "Due to COVID <number> our retail store and classroom in Atlanta will not be open for walk in business or classes for the next two weeks, beginning Monday, March <number> . We will continue to process online and phone orders as normal! Thank you for your understanding! <url>\n"
     ]
    }
   ],
   "source": [
    "#auto-correct tweets \n",
    "#from textblob import TextBlob\n",
    "\n",
    "check = Speller(lang='en')\n",
    "train['EditedTweet'] = [' '.join([check(i) for i in x.split()]) for x in train['EditedTweet']]\n",
    "#train['EditedTweet'] = train['EditedTweet'].apply(lambda x: ''.join(TextBlob(x).correct()))\n",
    "#TextBlob(line).correct()\n",
    "print(train['EditedTweet'][8])"
   ]
  },
  {
   "cell_type": "code",
   "execution_count": 24,
   "metadata": {},
   "outputs": [],
   "source": [
    "#Lowercase\n",
    "train['EditedTweet'] = train['EditedTweet'].str.lower()\n",
    "#print(train)"
   ]
  },
  {
   "cell_type": "code",
   "execution_count": 25,
   "metadata": {},
   "outputs": [
    {
     "name": "stdout",
     "output_type": "stream",
     "text": [
      "     UserName       Location  \\\n",
      "236  4035      San Diego, CA   \n",
      "\n",
      "                                                                                                                                                                                                                                                    OriginalTweet  \\\n",
      "236  What's a good way to support grocery store, medical, and hospital staff during this time? I would normally think of something along the lines of ordering everyone pizza, but that doesn't seem like a great idea about now... #COVID2019 #COVID19 #COVID?19   \n",
      "\n",
      "     Sentiment  count_words  count_unique_words  count_letters  \\\n",
      "236  2          41           39                  252             \n",
      "\n",
      "     count_stopwords  mean_word_len  count_mentions  count_hashtags  \\\n",
      "236  14               5.170732       0               3                \n",
      "\n",
      "     count_words_upper  count_words_title  count_excl_quest_marks  count_urls  \\\n",
      "236  4                  1                  2                       0            \n",
      "\n",
      "                                                                                                                                                                                                                                                                  EditedTweet  \\\n",
      "236  what is a good way to support grocery store, medical, and hospital staff during this time? i would normally think of something along the lines of ordering everyone pizza, but that does not seem like a great idea about now.. <hashtag> <hashtag> <hashtag> ? <number>   \n",
      "\n",
      "                                                                                                                                                                                                                                                                                                                                                                                                                                                                                                                                                                                                                                    pos_tagged_sent  \n",
      "236  [(what, WP), (is, VBZ), (a, DT), (good, JJ), (way, NN), (to, TO), (support, VB), (grocery, NN), (store, NN), (,, ,), (medical, JJ), (,, ,), (and, CC), (hospital, JJ), (staff, NN), (during, IN), (this, DT), (time, NN), (?, .), (i, NN), (would, MD), (normally, RB), (think, VB), (of, IN), (something, NN), (along, IN), (the, DT), (lines, NNS), (of, IN), (ordering, VBG), (everyone, NN), (pizza, NN), (,, ,), (but, CC), (that, IN), (does, VBZ), (not, RB), (seem, VB), (like, IN), (a, DT), (great, JJ), (idea, NN), (about, RB), (now, RB), (.., JJ), (<hashtag>, NNP), (<hashtag>, NNP), (<hashtag>, NNP), (?, .), (<number>, NN)]  \n"
     ]
    }
   ],
   "source": [
    "#Column of POS Tagged Sentences\n",
    "tweet_tokenizer = TweetTokenizer()\n",
    "train['pos_tagged_sent'] = train['EditedTweet'].apply(lambda x: \n",
    "                                    pos_tag(tweet_tokenizer.tokenize(x)))\n",
    "print(train[train['UserName']==4035])\n"
   ]
  },
  {
   "cell_type": "code",
   "execution_count": 26,
   "metadata": {
    "scrolled": true
   },
   "outputs": [
    {
     "name": "stdout",
     "output_type": "stream",
     "text": [
      "        JJ  NNP   CC   VB    NN   TO  PRP$  NNS  VBP   IN  ...  EX  ''  JJS  \\\n",
      "0      1.0  4.0  2.0  1.0 NaN   NaN  NaN   NaN  NaN  NaN   ... NaN NaN NaN    \n",
      "1      6.0 NaN   1.0  1.0  9.0   2.0  1.0   8.0  2.0  5.0  ... NaN NaN NaN    \n",
      "2      2.0  1.0 NaN   1.0  4.0   1.0 NaN    3.0 NaN   1.0  ... NaN NaN NaN    \n",
      "3      9.0  4.0  1.0  3.0  7.0  NaN   1.0  NaN   3.0  3.0  ... NaN NaN NaN    \n",
      "4      5.0  5.0  2.0  2.0  10.0  1.0  1.0  NaN   2.0  4.0  ... NaN NaN NaN    \n",
      "...    ...  ...  ...  ...   ...  ...  ...   ..   ...  ...  ...  ..  ..  ..    \n",
      "41152  1.0  3.0 NaN  NaN   4.0   1.0 NaN    2.0 NaN   1.0  ... NaN NaN NaN    \n",
      "41153  3.0  1.0 NaN   2.0  4.0   2.0 NaN    1.0 NaN   3.0  ... NaN NaN NaN    \n",
      "41154  2.0  4.0 NaN   1.0  2.0  NaN   1.0  NaN   1.0 NaN   ... NaN NaN NaN    \n",
      "41155  2.0 NaN  NaN   1.0  5.0   1.0 NaN   NaN  NaN   3.0  ... NaN NaN NaN    \n",
      "41156  4.0 NaN   1.0 NaN   13.0  1.0 NaN    2.0  2.0  7.0  ... NaN NaN NaN    \n",
      "\n",
      "       UH  FW    $  RBS  WP$  SYM  ``  \n",
      "0     NaN NaN NaN  NaN  NaN  NaN  NaN  \n",
      "1     NaN NaN NaN  NaN  NaN  NaN  NaN  \n",
      "2     NaN NaN NaN  NaN  NaN  NaN  NaN  \n",
      "3     NaN NaN NaN  NaN  NaN  NaN  NaN  \n",
      "4     NaN NaN NaN  NaN  NaN  NaN  NaN  \n",
      "...    ..  ..  ..   ..   ..   ..   ..  \n",
      "41152 NaN NaN NaN  NaN  NaN  NaN  NaN  \n",
      "41153 NaN NaN NaN  NaN  NaN  NaN  NaN  \n",
      "41154 NaN NaN NaN  NaN  NaN  NaN  NaN  \n",
      "41155 NaN NaN NaN  NaN  NaN  NaN  NaN  \n",
      "41156 NaN NaN  2.0 NaN  NaN  NaN  NaN  \n",
      "\n",
      "[41157 rows x 44 columns]\n",
      "     UserName       Location  \\\n",
      "236  4035      San Diego, CA   \n",
      "\n",
      "                                                                                                                                                                                                                                                    OriginalTweet  \\\n",
      "236  What's a good way to support grocery store, medical, and hospital staff during this time? I would normally think of something along the lines of ordering everyone pizza, but that doesn't seem like a great idea about now... #COVID2019 #COVID19 #COVID?19   \n",
      "\n",
      "     Sentiment  count_words  count_unique_words  count_letters  \\\n",
      "236  2          41           39                  252             \n",
      "\n",
      "     count_stopwords  mean_word_len  count_mentions  count_hashtags  \\\n",
      "236  14               5.170732       0               3                \n",
      "\n",
      "     count_words_upper  count_words_title  count_excl_quest_marks  count_urls  \\\n",
      "236  4                  1                  2                       0            \n",
      "\n",
      "                                                                                                                                                                                                                                                                  EditedTweet  \\\n",
      "236  what is a good way to support grocery store, medical, and hospital staff during this time? i would normally think of something along the lines of ordering everyone pizza, but that does not seem like a great idea about now.. <hashtag> <hashtag> <hashtag> ? <number>   \n",
      "\n",
      "                                                                                                                                                                                                                                                                                                                                                                                                                                                                                                                                                                                                                                    pos_tagged_sent  \n",
      "236  [(what, WP), (is, VBZ), (a, DT), (good, JJ), (way, NN), (to, TO), (support, VB), (grocery, NN), (store, NN), (,, ,), (medical, JJ), (,, ,), (and, CC), (hospital, JJ), (staff, NN), (during, IN), (this, DT), (time, NN), (?, .), (i, NN), (would, MD), (normally, RB), (think, VB), (of, IN), (something, NN), (along, IN), (the, DT), (lines, NNS), (of, IN), (ordering, VBG), (everyone, NN), (pizza, NN), (,, ,), (but, CC), (that, IN), (does, VBZ), (not, RB), (seem, VB), (like, IN), (a, DT), (great, JJ), (idea, NN), (about, RB), (now, RB), (.., JJ), (<hashtag>, NNP), (<hashtag>, NNP), (<hashtag>, NNP), (?, .), (<number>, NN)]  \n"
     ]
    }
   ],
   "source": [
    "pos_counts =  pd.DataFrame(train['pos_tagged_sent'].map(lambda x: \n",
    "                                    Counter(tag[1] for tag in x)).to_list())\n",
    "print(pos_counts)\n",
    "print(train[train['UserName']==4035])\n"
   ]
  },
  {
   "cell_type": "code",
   "execution_count": 27,
   "metadata": {},
   "outputs": [
    {
     "name": "stdout",
     "output_type": "stream",
     "text": [
      "0        [(<user>, a), (<user>, n), (<user>, n), (<url>, n), (and, ), (<url>, n), (and, ), (<url>, v)]                                                                                                                                                                                                                                                                                                                                                                                                                                                                                           \n",
      "1        [(advice, n), (talk, n), (to, ), (your, ), (neighbours, n), (family, n), (to, ), (exchange, v), (phone, n), (numbers, n), (create, v), (contact, a), (list, n), (with, ), (phone, n), (numbers, n), (of, ), (neighbours, n), (schools, n), (employer, v), (chemist, a), (gt, n), (set, v), (up, r), (online, a), (shopping, n), (accounts, n), (if, ), (pos, a), (adequate, a), (supplies, n), (of, ), (regular, a), (mens, n), (but, ), (not, r), (over, ), (order, n)]                                                                                                                \n",
      "2        [(coronavirus, n), (australia, n), (:, ), (woolworths, n), (to, ), (give, v), (elderly, a), (,, ), (disabled, v), (dedicated, v), (shopping, n), (hours, n), (amid, ), (covid, a), (<number>, n), (outbreak, n), (<url>, n)]                                                                                                                                                                                                                                                                                                                                                            \n",
      "3        [(my, ), (food, n), (stock, n), (is, v), (not, r), (the, ), (only, a), (one, ), (which, ), (is, v), (empty, a), (.., a), (please, n), (,, ), (do, v), (not, r), (panic, v), (,, ), (here, r), (will, ), (by, ), (enough, a), (od, n), (or, ), (everyone, n), (if, ), (you, ), (do, v), (not, r), (take, v), (more, a), (than, ), (you, ), (need, v), (., ), (stay, v), (calm, a), (,, ), (stay, a), (safe, a), (., ), (<hashtag>, a), (<hashtag>, a), (<hashtag>, n), (<hashtag>, n), (<hashtag>, n), (<hashtag>, n), (<hashtag>, n), (<url>, n)]                                       \n",
      "4        [(me, ), (,, ), (ready, a), (to, ), (go, v), (at, ), (supermarket, n), (during, ), (the, ), (<hashtag>, n), (outbreak, n), (., ), (not, r), (because, ), (i, n), (am, v), (paranoid, n), (,, ), (but, ), (because, ), (my, ), (food, n), (stock, n), (is, v), (literary, a), (empty, r), (., ), (the, ), (<hashtag>, n), (is, v), (a, ), (serious, a), (thing, n), (,, ), (but, ), (please, n), (,, ), (do, v), (not, r), (panic, v), (., ), (it, ), (causes, v), (shortage, a), (.., a), (<hashtag>, n), (<hashtag>, n), (<hashtag>, n), (<hashtag>, n), (<url>, n)]                   \n",
      "                                                                                                                                                                                                                                                                                         ...                                                                                                                                                                                                                                                                                                     \n",
      "41152    [(airline, n), (pilots, n), (offering, v), (to, ), (stock, n), (supermarket, n), (shelves, n), (in, ), (<hashtag>, n), (lockdown, a), (<hashtag>, n), (<number>, n), (<url>, n)]                                                                                                                                                                                                                                                                                                                                                                                                        \n",
      "41153    [(response, n), (to, ), (complaint, v), (not, r), (provided, v), (citing, v), (covid, a), (<number>, n), (related, a), (delays, n), (., ), (yet, r), (prompt, a), (in, ), (rejecting, v), (policy, n), (before, ), (consumer, n), (at, ), (is, v), (over, r), (., ), (way, n), (to, ), (go, v), (?, )]                                                                                                                                                                                                                                                                                  \n",
      "41154    [(you, ), (know, v), (its, ), (getting, v), (tough, a), (when, ), (<user>, n), (is, v), (rationing, v), (toilet, a), (paper, n), (<hashtag>, n), (<hashtag>, n), (<user>, n), (martinsville, n), (,, ), (help, v), (us, ), (out, r), (!, ), (!, )]                                                                                                                                                                                                                                                                                                                                      \n",
      "41155    [(is, v), (it, ), (wrong, a), (that, ), (the, ), (smell, n), (of, ), (hand, n), (sanitizer, n), (is, v), (starting, v), (to, ), (turn, v), (me, ), (on, ), (?, ), (<hashtag>, a), (<hashtag>, n), (<hashtag>, n)]                                                                                                                                                                                                                                                                                                                                                                       \n",
      "41156    [(<user>, r), (well, r), (new, a), (/, n), (used, v), (rift, n), (s, n), (are, v), (going, v), (for, ), ($, ), (<number>, ), (on, ), (amazon, n), (rn, n), (although, ), (the, ), (normal, a), (market, n), (price, n), (is, v), (usually, r), ($, ), (<number>, n), (., ), (prices, n), (are, v), (really, r), (crazy, a), (right, n), (now, r), (for, ), (vr, n), (headset, n), (since, ), (l, n), (alex, n), (was, v), (announced, v), (and, ), (it, ), (is, v), (only, r), (been, v), (worse, a), (with, ), (covid, a), (<number>, n), (., ), (up, r), (to, ), (you, ), (whether, )]\n",
      "Name: Wordnet_tagged_sent, Length: 41157, dtype: object\n",
      "0        <user> <user> <user> <url> and <url> and <url>                                                                                                                                                                                                                             \n",
      "1        advice talk to your neighbour family to exchange phone number create contact list with phone number of neighbour school employer chemist gt set up online shopping account if pos adequate supply of regular men but not over order                                        \n",
      "2        coronavirus australia : woolworth to give elderly , disable dedicate shopping hour amid covid <number> outbreak <url>                                                                                                                                                      \n",
      "3        my food stock be not the only one which be empty .. please , do not panic , here will by enough od or everyone if you do not take more than you need . stay calm , stay safe . <hashtag> <hashtag> <hashtag> <hashtag> <hashtag> <hashtag> <hashtag> <url>                 \n",
      "4        me , ready to go at supermarket during the <hashtag> outbreak . not because i be paranoid , but because my food stock be literary empty . the <hashtag> be a serious thing , but please , do not panic . it cause shortage .. <hashtag> <hashtag> <hashtag> <hashtag> <url>\n",
      "                                                                                                                                            ...                                                                                                                                     \n",
      "41152    airline pilot offer to stock supermarket shelf in <hashtag> lockdown <hashtag> <number> <url>                                                                                                                                                                              \n",
      "41153    response to complaint not provide cite covid <number> related delay . yet prompt in reject policy before consumer at be over . way to go ?                                                                                                                                 \n",
      "41154    you know its get tough when <user> be ration toilet paper <hashtag> <hashtag> <user> martinsville , help us out ! !                                                                                                                                                        \n",
      "41155    be it wrong that the smell of hand sanitizer be start to turn me on ? <hashtag> <hashtag> <hashtag>                                                                                                                                                                        \n",
      "41156    <user> well new / use rift s be go for $ <number> on amazon rn although the normal market price be usually $ <number> . price be really crazy right now for vr headset since l alex be announce and it be only be bad with covid <number> . up to you whether              \n",
      "Name: Preprocessed_sentences, Length: 41157, dtype: object\n"
     ]
    },
    {
     "name": "stdout",
     "output_type": "stream",
     "text": [
      "          a     n          v    r\n",
      "0      1.0   4.0   2.0   1.0 NaN \n",
      "1      6.0   17.0  9.0   4.0  2.0\n",
      "2      2.0   8.0   4.0   3.0 NaN \n",
      "3      10.0  11.0  16.0  8.0  4.0\n",
      "4      5.0   15.0  20.0  7.0  3.0\n",
      "...    ...    ...   ...  ...  ...\n",
      "41152  1.0   9.0   2.0   1.0 NaN \n",
      "41153  3.0   6.0   8.0   6.0  3.0\n",
      "41154  2.0   6.0   7.0   5.0  1.0\n",
      "41155  2.0   5.0   8.0   4.0 NaN \n",
      "41156  5.0   15.0  17.0  9.0  7.0\n",
      "\n",
      "[41157 rows x 5 columns]\n"
     ]
    }
   ],
   "source": [
    "lemmatizer = nltk.stem.WordNetLemmatizer()\n",
    "wordnet_lemmatizer = WordNetLemmatizer()\n",
    "\n",
    "# POS tags to WordNet tags\n",
    "def nltk_tag_to_wordnet_tag(nltk_tag):\n",
    "    if nltk_tag.startswith('J'):\n",
    "        return wordnet.ADJ\n",
    "    elif nltk_tag.startswith('V'):\n",
    "        return wordnet.VERB\n",
    "    elif nltk_tag.startswith('N'):\n",
    "        return wordnet.NOUN\n",
    "    elif nltk_tag.startswith('R'):\n",
    "        return wordnet.ADV\n",
    "    else:\n",
    "        return \"\"\n",
    "    \n",
    "\n",
    "train['Wordnet_tagged_sent'] = train['pos_tagged_sent'].apply(lambda x : \n",
    "                    [(w,nltk_tag_to_wordnet_tag(t)) for (w, t) in x],1)\n",
    "print (train['Wordnet_tagged_sent'])\n",
    "\n",
    "def lemmatize_sentence(sentence):\n",
    "    lemmatized_sentence = []\n",
    "    for word, tag in sentence:\n",
    "        if tag is \"\":\n",
    "            #if there is no available tag, append the token as is\n",
    "            lemmatized_sentence.append(word)\n",
    "        else:\n",
    "            #else use the tag to lemmatize the token\n",
    "            lemmatized_sentence.append(lemmatizer.lemmatize(word, tag))\n",
    "    return \" \".join(lemmatized_sentence)\n",
    "\n",
    "# Lemmatizing\n",
    "train['Preprocessed_sentences'] = train['Wordnet_tagged_sent'].apply(\n",
    "    lambda x: lemmatize_sentence(x))\n",
    "print (train['Preprocessed_sentences'])\n",
    "\n",
    "wordnet_counts =  pd.DataFrame(train['Wordnet_tagged_sent'].map(lambda x: \n",
    "                                    Counter(tag[1] for tag in x)).to_list())\n",
    "train = pd.concat([train, wordnet_counts], axis=1).fillna(0)\n",
    "print (wordnet_counts)"
   ]
  },
  {
   "cell_type": "code",
   "execution_count": 28,
   "metadata": {},
   "outputs": [],
   "source": [
    "#Renaming new columns\n",
    "#train.rename(columns={ train.columns[7]: 'Other' }, inplace = True)\n",
    "train.rename(columns={'' : 'Others', 'n': 'Nouns', 'v': 'Verbs', \n",
    "            'a': 'Adjectives', 'r': 'Adverbs'}, inplace=True)\n",
    "\n",
    "cols = [\"Others\",\"Nouns\",\"Verbs\",\"Adjectives\",\"Adverbs\"]\n",
    "train[cols] = train[cols].values.astype(np.int64)"
   ]
  },
  {
   "cell_type": "code",
   "execution_count": 29,
   "metadata": {},
   "outputs": [
    {
     "data": {
      "text/plain": [
       "\"\\nprint(train['Lemmatize'])\\n\\ntrain['Preprocessed_sentences'] = train.apply(lambda row: \\n                        tweet_tokenizer.tokenize(row['Lemmatize']), axis=1)\\n#print(train['tokenized'])\""
      ]
     },
     "execution_count": 29,
     "metadata": {},
     "output_type": "execute_result"
    }
   ],
   "source": [
    "#Tokenization of the lemmatized rows\n",
    "'''\n",
    "print(train['Lemmatize'])\n",
    "\n",
    "train['Preprocessed_sentences'] = train.apply(lambda row: \n",
    "                        tweet_tokenizer.tokenize(row['Lemmatize']), axis=1)\n",
    "#print(train['tokenized'])'''"
   ]
  },
  {
   "cell_type": "code",
   "execution_count": 30,
   "metadata": {
    "scrolled": true
   },
   "outputs": [
    {
     "name": "stdout",
     "output_type": "stream",
     "text": [
      "   UserName   Location  \\\n",
      "0  3799      London      \n",
      "1  3800      UK          \n",
      "2  3801      Vagabonds   \n",
      "3  3802      0           \n",
      "4  3803      0           \n",
      "\n",
      "                                                                                                                                                                                                                                                                                                                        OriginalTweet  \\\n",
      "0  @MeNyrbie @Phil_Gahan @Chrisitv https://t.co/iFz9FAn2Pa and https://t.co/xX6ghGFzCC and https://t.co/I2NlzdxNo8                                                                                                                                                                                                                      \n",
      "1  advice Talk to your neighbours family to exchange phone numbers create contact list with phone numbers of neighbours schools employer chemist GP set up online shopping accounts if poss adequate supplies of regular meds but not over order                                                                                        \n",
      "2  Coronavirus Australia: Woolworths to give elderly, disabled dedicated shopping hours amid COVID-19 outbreak https://t.co/bInCA9Vp8P                                                                                                                                                                                                  \n",
      "3  My food stock is not the only one which is empty...\\r\\r\\n\\r\\r\\nPLEASE, don't panic, THERE WILL BE ENOUGH FOOD FOR EVERYONE if you do not take more than you need. \\r\\r\\nStay calm, stay safe.\\r\\r\\n\\r\\r\\n#COVID19france #COVID_19 #COVID19 #coronavirus #confinement #Confinementotal #ConfinementGeneral https://t.co/zrlG0Z520j    \n",
      "4  Me, ready to go at supermarket during the #COVID19 outbreak.\\r\\r\\n\\r\\r\\nNot because I'm paranoid, but because my food stock is litteraly empty. The #coronavirus is a serious thing, but please, don't panic. It causes shortage...\\r\\r\\n\\r\\r\\n#CoronavirusFrance #restezchezvous #StayAtHome #confinement https://t.co/usmuaLq72n   \n",
      "\n",
      "   Sentiment  count_words  count_unique_words  count_letters  count_stopwords  \\\n",
      "0  1          8            7                   111            2                 \n",
      "1  2          38           33                  237            11                \n",
      "2  2          14           14                  131            1                 \n",
      "3  2          42           39                  306            19                \n",
      "4  0          40           37                  310            16                \n",
      "\n",
      "   mean_word_len  count_mentions  ...  count_urls  \\\n",
      "0  13.000000      3               ...  3            \n",
      "1  5.263158       0               ...  0            \n",
      "2  8.428571       0               ...  1            \n",
      "3  6.000000       0               ...  1            \n",
      "4  6.525000       0               ...  1            \n",
      "\n",
      "                                                                                                                                                                                                                                                            EditedTweet  \\\n",
      "0  <user> <user> <user> <url> and <url> and <url>                                                                                                                                                                                                                         \n",
      "1  advice talk to your neighbours family to exchange phone numbers create contact list with phone numbers of neighbours schools employer chemist gt set up online shopping accounts if pos adequate supplies of regular mens but not over order                           \n",
      "2  coronavirus australia: woolworths to give elderly, disabled dedicated shopping hours amid covid <number> outbreak <url>                                                                                                                                                \n",
      "3  my food stock is not the only one which is empty.. please, do not panic, here will by enough od or everyone if you do not take more than you need. stay calm, stay safe. <hashtag> <hashtag> <hashtag> <hashtag> <hashtag> <hashtag> <hashtag> <url>                   \n",
      "4  me, ready to go at supermarket during the <hashtag> outbreak. not because i am paranoid, but because my food stock is literary empty. the <hashtag> is a serious thing, but please, do not panic. it causes shortage.. <hashtag> <hashtag> <hashtag> <hashtag> <url>   \n",
      "\n",
      "                                                                                                                                                                                                                                                                                                                                                                                                                                                                                                                                                                                                                                      pos_tagged_sent  \\\n",
      "0  [(<user>, JJ), (<user>, NNP), (<user>, NNP), (<url>, NNP), (and, CC), (<url>, NNP), (and, CC), (<url>, VB)]                                                                                                                                                                                                                                                                                                                                                                                                                                                                                                                                          \n",
      "1  [(advice, NN), (talk, NN), (to, TO), (your, PRP$), (neighbours, NNS), (family, NN), (to, TO), (exchange, VB), (phone, NN), (numbers, NNS), (create, VBP), (contact, JJ), (list, NN), (with, IN), (phone, NN), (numbers, NNS), (of, IN), (neighbours, NNS), (schools, NNS), (employer, VBP), (chemist, JJ), (gt, NN), (set, VBN), (up, RP), (online, JJ), (shopping, NN), (accounts, NNS), (if, IN), (pos, JJ), (adequate, JJ), (supplies, NNS), (of, IN), (regular, JJ), (mens, NNS), (but, CC), (not, RB), (over, IN), (order, NN)]                                                                                                                 \n",
      "2  [(coronavirus, NN), (australia, NNS), (:, :), (woolworths, NNS), (to, TO), (give, VB), (elderly, JJ), (,, ,), (disabled, VBD), (dedicated, VBN), (shopping, NN), (hours, NNS), (amid, IN), (covid, JJ), (<number>, NNP), (outbreak, NN), (<url>, NN)]                                                                                                                                                                                                                                                                                                                                                                                                \n",
      "3  [(my, PRP$), (food, NN), (stock, NN), (is, VBZ), (not, RB), (the, DT), (only, JJ), (one, CD), (which, WDT), (is, VBZ), (empty, JJ), (.., JJ), (please, NN), (,, ,), (do, VBP), (not, RB), (panic, VB), (,, ,), (here, RB), (will, MD), (by, IN), (enough, JJ), (od, NN), (or, CC), (everyone, NN), (if, IN), (you, PRP), (do, VBP), (not, RB), (take, VB), (more, JJR), (than, IN), (you, PRP), (need, VBP), (., .), (stay, VB), (calm, JJ), (,, ,), (stay, JJ), (safe, JJ), (., .), (<hashtag>, JJ), (<hashtag>, JJ), (<hashtag>, NN), (<hashtag>, NNP), (<hashtag>, NNP), (<hashtag>, NNP), (<hashtag>, NNP), (<url>, NN)]                         \n",
      "4  [(me, PRP), (,, ,), (ready, JJ), (to, TO), (go, VB), (at, IN), (supermarket, NN), (during, IN), (the, DT), (<hashtag>, NNP), (outbreak, NN), (., .), (not, RB), (because, IN), (i, NN), (am, VBP), (paranoid, NN), (,, ,), (but, CC), (because, IN), (my, PRP$), (food, NN), (stock, NN), (is, VBZ), (literary, JJ), (empty, RB), (., .), (the, DT), (<hashtag>, NN), (is, VBZ), (a, DT), (serious, JJ), (thing, NN), (,, ,), (but, CC), (please, NN), (,, ,), (do, VBP), (not, RB), (panic, VB), (., .), (it, PRP), (causes, VBZ), (shortage, JJ), (.., JJ), (<hashtag>, NNP), (<hashtag>, NNP), (<hashtag>, NNP), (<hashtag>, NNP), (<url>, NN)]   \n",
      "\n",
      "                                                                                                                                                                                                                                                                                                                                                                                                                                                                                                                                                     Wordnet_tagged_sent  \\\n",
      "0  [(<user>, a), (<user>, n), (<user>, n), (<url>, n), (and, ), (<url>, n), (and, ), (<url>, v)]                                                                                                                                                                                                                                                                                                                                                                                                                                                                           \n",
      "1  [(advice, n), (talk, n), (to, ), (your, ), (neighbours, n), (family, n), (to, ), (exchange, v), (phone, n), (numbers, n), (create, v), (contact, a), (list, n), (with, ), (phone, n), (numbers, n), (of, ), (neighbours, n), (schools, n), (employer, v), (chemist, a), (gt, n), (set, v), (up, r), (online, a), (shopping, n), (accounts, n), (if, ), (pos, a), (adequate, a), (supplies, n), (of, ), (regular, a), (mens, n), (but, ), (not, r), (over, ), (order, n)]                                                                                                \n",
      "2  [(coronavirus, n), (australia, n), (:, ), (woolworths, n), (to, ), (give, v), (elderly, a), (,, ), (disabled, v), (dedicated, v), (shopping, n), (hours, n), (amid, ), (covid, a), (<number>, n), (outbreak, n), (<url>, n)]                                                                                                                                                                                                                                                                                                                                            \n",
      "3  [(my, ), (food, n), (stock, n), (is, v), (not, r), (the, ), (only, a), (one, ), (which, ), (is, v), (empty, a), (.., a), (please, n), (,, ), (do, v), (not, r), (panic, v), (,, ), (here, r), (will, ), (by, ), (enough, a), (od, n), (or, ), (everyone, n), (if, ), (you, ), (do, v), (not, r), (take, v), (more, a), (than, ), (you, ), (need, v), (., ), (stay, v), (calm, a), (,, ), (stay, a), (safe, a), (., ), (<hashtag>, a), (<hashtag>, a), (<hashtag>, n), (<hashtag>, n), (<hashtag>, n), (<hashtag>, n), (<hashtag>, n), (<url>, n)]                       \n",
      "4  [(me, ), (,, ), (ready, a), (to, ), (go, v), (at, ), (supermarket, n), (during, ), (the, ), (<hashtag>, n), (outbreak, n), (., ), (not, r), (because, ), (i, n), (am, v), (paranoid, n), (,, ), (but, ), (because, ), (my, ), (food, n), (stock, n), (is, v), (literary, a), (empty, r), (., ), (the, ), (<hashtag>, n), (is, v), (a, ), (serious, a), (thing, n), (,, ), (but, ), (please, n), (,, ), (do, v), (not, r), (panic, v), (., ), (it, ), (causes, v), (shortage, a), (.., a), (<hashtag>, n), (<hashtag>, n), (<hashtag>, n), (<hashtag>, n), (<url>, n)]   \n",
      "\n",
      "                                                                                                                                                                                                                                                        Preprocessed_sentences  \\\n",
      "0  <user> <user> <user> <url> and <url> and <url>                                                                                                                                                                                                                                \n",
      "1  advice talk to your neighbour family to exchange phone number create contact list with phone number of neighbour school employer chemist gt set up online shopping account if pos adequate supply of regular men but not over order                                           \n",
      "2  coronavirus australia : woolworth to give elderly , disable dedicate shopping hour amid covid <number> outbreak <url>                                                                                                                                                         \n",
      "3  my food stock be not the only one which be empty .. please , do not panic , here will by enough od or everyone if you do not take more than you need . stay calm , stay safe . <hashtag> <hashtag> <hashtag> <hashtag> <hashtag> <hashtag> <hashtag> <url>                    \n",
      "4  me , ready to go at supermarket during the <hashtag> outbreak . not because i be paranoid , but because my food stock be literary empty . the <hashtag> be a serious thing , but please , do not panic . it cause shortage .. <hashtag> <hashtag> <hashtag> <hashtag> <url>   \n",
      "\n",
      "  Adjectives Nouns Others Verbs  Adverbs  \n",
      "0  1          4     2      1     0        \n",
      "1  6          17    9      4     2        \n",
      "2  2          8     4      3     0        \n",
      "3  10         11    16     8     4        \n",
      "4  5          15    20     7     3        \n",
      "\n",
      "[5 rows x 24 columns]\n"
     ]
    }
   ],
   "source": [
    "print(train.head())"
   ]
  },
  {
   "cell_type": "code",
   "execution_count": 31,
   "metadata": {},
   "outputs": [
    {
     "data": {
      "text/plain": [
       "'\\n#new_stopwords = [\\'covid-\\', \\'covid\\', \\'coronavirus\\', \\'``\\']\\nnew_stopwords = [\\'<hashtag>\\', \\'<number>\\', \\'<url>\\', \\'<user>\\']\\nstop_words = stop_words.union(new_stopwords)\\n#stop_words = stop_words - set([\\'not\\'])\\ntrain[\"tokenized\"] = train[\\'tokenized\\'].apply(lambda x: \\n                            [item for item in x if item not in stop_words])\\n\\n#print(Counter(\" \".join(train[\"Tokens_w/ostop\"]).split()).most_common(20))\\n#print(train.loc[[7689]])\\n'"
      ]
     },
     "execution_count": 31,
     "metadata": {},
     "output_type": "execute_result"
    }
   ],
   "source": [
    "#Add new stopwords and remove all of them\n",
    "'''\n",
    "#new_stopwords = ['covid-', 'covid', 'coronavirus', '``']\n",
    "new_stopwords = ['<hashtag>', '<number>', '<url>', '<user>']\n",
    "stop_words = stop_words.union(new_stopwords)\n",
    "#stop_words = stop_words - set(['not'])\n",
    "train[\"tokenized\"] = train['tokenized'].apply(lambda x: \n",
    "                            [item for item in x if item not in stop_words])\n",
    "\n",
    "#print(Counter(\" \".join(train[\"Tokens_w/ostop\"]).split()).most_common(20))\n",
    "#print(train.loc[[7689]])\n",
    "'''"
   ]
  },
  {
   "cell_type": "code",
   "execution_count": 32,
   "metadata": {},
   "outputs": [
    {
     "data": {
      "text/plain": [
       "'train[\"Preprocessed_sentences\"] = train[\"tokenized\"].apply(lambda x:\\n                                                        \" \".join(x))\\nprint(train[\"Preprocessed_sentences\"])'"
      ]
     },
     "execution_count": 32,
     "metadata": {},
     "output_type": "execute_result"
    }
   ],
   "source": [
    "'''train[\"Preprocessed_sentences\"] = train[\"tokenized\"].apply(lambda x:\n",
    "                                                        \" \".join(x))\n",
    "print(train[\"Preprocessed_sentences\"])'''"
   ]
  },
  {
   "cell_type": "code",
   "execution_count": 33,
   "metadata": {},
   "outputs": [],
   "source": [
    "#Remove tweets with less than 2 words\n",
    "#train['len_tokens'] = train['tokenized'].apply(lambda x: len(x))\n",
    "#print(train['len_tokens'])\n",
    "#0 = train['len_tokens'].value_counts()[0]\n",
    "#n1 = train['len_tokens'].value_counts()[1]\n",
    "#n2 = train['len_tokens'].value_counts()[2]\n",
    "#print( n1+ n2)\n",
    "\n",
    "#Remove rows that don't contain text after preprocessing\n",
    "train = train[train['Preprocessed_sentences'].str.contains('[A-Za-z]', na=False)]\n",
    "train = train.reset_index(drop=True)\n"
   ]
  },
  {
   "cell_type": "code",
   "execution_count": 34,
   "metadata": {},
   "outputs": [],
   "source": [
    "#Save dataset\n",
    "\n",
    "train.to_csv(r'preprocessed_tweets.csv')"
   ]
  },
  {
   "cell_type": "code",
   "execution_count": 35,
   "metadata": {},
   "outputs": [
    {
     "name": "stdout",
     "output_type": "stream",
     "text": [
      "       UserName                      Location  \\\n",
      "0      3799      London                         \n",
      "1      3800      UK                             \n",
      "2      3801      Vagabonds                      \n",
      "3      3802      0                              \n",
      "4      3803      0                              \n",
      "...     ...     ..                              \n",
      "41152  44951     Wellington City, New Zealand   \n",
      "41153  44952     0                              \n",
      "41154  44953     0                              \n",
      "41155  44954     0                              \n",
      "41156  44955     i love you so much || he/him   \n",
      "\n",
      "                                                                                                                                                                                                                                                                                                                            OriginalTweet  \\\n",
      "0      @MeNyrbie @Phil_Gahan @Chrisitv https://t.co/iFz9FAn2Pa and https://t.co/xX6ghGFzCC and https://t.co/I2NlzdxNo8                                                                                                                                                                                                                      \n",
      "1      advice Talk to your neighbours family to exchange phone numbers create contact list with phone numbers of neighbours schools employer chemist GP set up online shopping accounts if poss adequate supplies of regular meds but not over order                                                                                        \n",
      "2      Coronavirus Australia: Woolworths to give elderly, disabled dedicated shopping hours amid COVID-19 outbreak https://t.co/bInCA9Vp8P                                                                                                                                                                                                  \n",
      "3      My food stock is not the only one which is empty...\\r\\r\\n\\r\\r\\nPLEASE, don't panic, THERE WILL BE ENOUGH FOOD FOR EVERYONE if you do not take more than you need. \\r\\r\\nStay calm, stay safe.\\r\\r\\n\\r\\r\\n#COVID19france #COVID_19 #COVID19 #coronavirus #confinement #Confinementotal #ConfinementGeneral https://t.co/zrlG0Z520j    \n",
      "4      Me, ready to go at supermarket during the #COVID19 outbreak.\\r\\r\\n\\r\\r\\nNot because I'm paranoid, but because my food stock is litteraly empty. The #coronavirus is a serious thing, but please, don't panic. It causes shortage...\\r\\r\\n\\r\\r\\n#CoronavirusFrance #restezchezvous #StayAtHome #confinement https://t.co/usmuaLq72n   \n",
      "...                                                                                                                                                                                                                                                                                                                                   ...   \n",
      "41152  Airline pilots offering to stock supermarket shelves in #NZ lockdown #COVID-19 https://t.co/cz89uA0HNp                                                                                                                                                                                                                               \n",
      "41153  Response to complaint not provided citing COVID-19 related delays. Yet prompt in rejecting policy before consumer TAT is over. Way to go ?                                                                                                                                                                                           \n",
      "41154  You know itÂs getting tough when @KameronWilds  is rationing toilet paper #coronavirus #toiletpaper @kroger martinsville, help us out!!                                                                                                                                                                                             \n",
      "41155  Is it wrong that the smell of hand sanitizer is starting to turn me on?\\r\\r\\n\\r\\r\\n#coronavirus #COVID19 #coronavirus                                                                                                                                                                                                                \n",
      "41156  @TartiiCat Well new/used Rift S are going for $700.00 on Amazon rn although the normal market price is usually $400.00 . Prices are really crazy right now for vr headsets since HL Alex was announced and it's only been worse with COVID-19. Up to you whethe                                                                      \n",
      "\n",
      "       Sentiment  count_words  count_unique_words  count_letters  \\\n",
      "0      1          8            7                   111             \n",
      "1      2          38           33                  237             \n",
      "2      2          14           14                  131             \n",
      "3      2          42           39                  306             \n",
      "4      0          40           37                  310             \n",
      "...   ..          ..           ..                  ...             \n",
      "41152  1          12           12                  102             \n",
      "41153  0          23           22                  138             \n",
      "41154  2          18           18                  136             \n",
      "41155  1          18           17                  111             \n",
      "41156  0          46           44                  255             \n",
      "\n",
      "       count_stopwords  mean_word_len  count_mentions  ...  count_urls  \\\n",
      "0      2                13.000000      3               ...  3            \n",
      "1      11               5.263158       0               ...  0            \n",
      "2      1                8.428571       0               ...  1            \n",
      "3      19               6.000000       0               ...  1            \n",
      "4      16               6.525000       0               ...  1            \n",
      "...    ..                    ...      ..               ... ..            \n",
      "41152  2                7.583333       0               ...  1            \n",
      "41153  6                5.043478       0               ...  0            \n",
      "41154  3                6.555556       2               ...  0            \n",
      "41155  8                4.944444       0               ...  0            \n",
      "41156  18               4.565217       1               ...  0            \n",
      "\n",
      "                                                                                                                                                                                                                                                                    EditedTweet  \\\n",
      "0      <user> <user> <user> <url> and <url> and <url>                                                                                                                                                                                                                             \n",
      "1      advice talk to your neighbours family to exchange phone numbers create contact list with phone numbers of neighbours schools employer chemist gt set up online shopping accounts if pos adequate supplies of regular mens but not over order                               \n",
      "2      coronavirus australia: woolworths to give elderly, disabled dedicated shopping hours amid covid <number> outbreak <url>                                                                                                                                                    \n",
      "3      my food stock is not the only one which is empty.. please, do not panic, here will by enough od or everyone if you do not take more than you need. stay calm, stay safe. <hashtag> <hashtag> <hashtag> <hashtag> <hashtag> <hashtag> <hashtag> <url>                       \n",
      "4      me, ready to go at supermarket during the <hashtag> outbreak. not because i am paranoid, but because my food stock is literary empty. the <hashtag> is a serious thing, but please, do not panic. it causes shortage.. <hashtag> <hashtag> <hashtag> <hashtag> <url>       \n",
      "...                                                                                                                                                                                                                                                                     ...       \n",
      "41152  airline pilots offering to stock supermarket shelves in <hashtag> lockdown <hashtag> <number> <url>                                                                                                                                                                        \n",
      "41153  response to complaint not provided citing covid <number> related delays. yet prompt in rejecting policy before consumer at is over. way to go ?                                                                                                                            \n",
      "41154  you know its getting tough when <user> is rationing toilet paper <hashtag> <hashtag> <user> martinsville, help us out!!                                                                                                                                                    \n",
      "41155  is it wrong that the smell of hand sanitizer is starting to turn me on? <hashtag> <hashtag> <hashtag>                                                                                                                                                                      \n",
      "41156  <user> well new/used rift s are going for $ <number> on amazon rn although the normal market price is usually $ <number> . prices are really crazy right now for vr headset since l alex was announced and it is only been worse with covid <number> . up to you whether   \n",
      "\n",
      "                                                                                                                                                                                                                                                                                                                                                                                                                                                                                                                                                                                                                                                                pos_tagged_sent  \\\n",
      "0      [(<user>, JJ), (<user>, NNP), (<user>, NNP), (<url>, NNP), (and, CC), (<url>, NNP), (and, CC), (<url>, VB)]                                                                                                                                                                                                                                                                                                                                                                                                                                                                                                                                                                \n",
      "1      [(advice, NN), (talk, NN), (to, TO), (your, PRP$), (neighbours, NNS), (family, NN), (to, TO), (exchange, VB), (phone, NN), (numbers, NNS), (create, VBP), (contact, JJ), (list, NN), (with, IN), (phone, NN), (numbers, NNS), (of, IN), (neighbours, NNS), (schools, NNS), (employer, VBP), (chemist, JJ), (gt, NN), (set, VBN), (up, RP), (online, JJ), (shopping, NN), (accounts, NNS), (if, IN), (pos, JJ), (adequate, JJ), (supplies, NNS), (of, IN), (regular, JJ), (mens, NNS), (but, CC), (not, RB), (over, IN), (order, NN)]                                                                                                                                       \n",
      "2      [(coronavirus, NN), (australia, NNS), (:, :), (woolworths, NNS), (to, TO), (give, VB), (elderly, JJ), (,, ,), (disabled, VBD), (dedicated, VBN), (shopping, NN), (hours, NNS), (amid, IN), (covid, JJ), (<number>, NNP), (outbreak, NN), (<url>, NN)]                                                                                                                                                                                                                                                                                                                                                                                                                      \n",
      "3      [(my, PRP$), (food, NN), (stock, NN), (is, VBZ), (not, RB), (the, DT), (only, JJ), (one, CD), (which, WDT), (is, VBZ), (empty, JJ), (.., JJ), (please, NN), (,, ,), (do, VBP), (not, RB), (panic, VB), (,, ,), (here, RB), (will, MD), (by, IN), (enough, JJ), (od, NN), (or, CC), (everyone, NN), (if, IN), (you, PRP), (do, VBP), (not, RB), (take, VB), (more, JJR), (than, IN), (you, PRP), (need, VBP), (., .), (stay, VB), (calm, JJ), (,, ,), (stay, JJ), (safe, JJ), (., .), (<hashtag>, JJ), (<hashtag>, JJ), (<hashtag>, NN), (<hashtag>, NNP), (<hashtag>, NNP), (<hashtag>, NNP), (<hashtag>, NNP), (<url>, NN)]                                               \n",
      "4      [(me, PRP), (,, ,), (ready, JJ), (to, TO), (go, VB), (at, IN), (supermarket, NN), (during, IN), (the, DT), (<hashtag>, NNP), (outbreak, NN), (., .), (not, RB), (because, IN), (i, NN), (am, VBP), (paranoid, NN), (,, ,), (but, CC), (because, IN), (my, PRP$), (food, NN), (stock, NN), (is, VBZ), (literary, JJ), (empty, RB), (., .), (the, DT), (<hashtag>, NN), (is, VBZ), (a, DT), (serious, JJ), (thing, NN), (,, ,), (but, CC), (please, NN), (,, ,), (do, VBP), (not, RB), (panic, VB), (., .), (it, PRP), (causes, VBZ), (shortage, JJ), (.., JJ), (<hashtag>, NNP), (<hashtag>, NNP), (<hashtag>, NNP), (<hashtag>, NNP), (<url>, NN)]                         \n",
      "...                                                                                                                                                                                                                                                                                                                                                                                                                                                                                                                                                                                                                                                   ...                         \n",
      "41152  [(airline, NN), (pilots, NNS), (offering, VBG), (to, TO), (stock, NN), (supermarket, NN), (shelves, NNS), (in, IN), (<hashtag>, NNP), (lockdown, JJ), (<hashtag>, NNP), (<number>, NNP), (<url>, NN)]                                                                                                                                                                                                                                                                                                                                                                                                                                                                      \n",
      "41153  [(response, NN), (to, TO), (complaint, VB), (not, RB), (provided, VBN), (citing, VBG), (covid, JJ), (<number>, NNP), (related, JJ), (delays, NNS), (., .), (yet, RB), (prompt, JJ), (in, IN), (rejecting, VBG), (policy, NN), (before, IN), (consumer, NN), (at, IN), (is, VBZ), (over, RB), (., .), (way, NN), (to, TO), (go, VB), (?, .)]                                                                                                                                                                                                                                                                                                                                \n",
      "41154  [(you, PRP), (know, VBP), (its, PRP$), (getting, VBG), (tough, JJ), (when, WRB), (<user>, NN), (is, VBZ), (rationing, VBG), (toilet, JJ), (paper, NN), (<hashtag>, NNP), (<hashtag>, NNP), (<user>, NNP), (martinsville, NNP), (,, ,), (help, VB), (us, PRP), (out, RP), (!, .), (!, .)]                                                                                                                                                                                                                                                                                                                                                                                   \n",
      "41155  [(is, VBZ), (it, PRP), (wrong, JJ), (that, IN), (the, DT), (smell, NN), (of, IN), (hand, NN), (sanitizer, NN), (is, VBZ), (starting, VBG), (to, TO), (turn, VB), (me, PRP), (on, IN), (?, .), (<hashtag>, JJ), (<hashtag>, NN), (<hashtag>, NN)]                                                                                                                                                                                                                                                                                                                                                                                                                           \n",
      "41156  [(<user>, RB), (well, RB), (new, JJ), (/, NNS), (used, VBN), (rift, NN), (s, NN), (are, VBP), (going, VBG), (for, IN), ($, $), (<number>, CD), (on, IN), (amazon, NN), (rn, NN), (although, IN), (the, DT), (normal, JJ), (market, NN), (price, NN), (is, VBZ), (usually, RB), ($, $), (<number>, NN), (., .), (prices, NNS), (are, VBP), (really, RB), (crazy, JJ), (right, NN), (now, RB), (for, IN), (vr, NN), (headset, NN), (since, IN), (l, NN), (alex, NN), (was, VBD), (announced, VBN), (and, CC), (it, PRP), (is, VBZ), (only, RB), (been, VBN), (worse, JJR), (with, IN), (covid, JJ), (<number>, NN), (., .), (up, RP), (to, TO), (you, PRP), (whether, IN)]   \n",
      "\n",
      "                                                                                                                                                                                                                                                                                                                                                                                                                                                                                                                                                                            Wordnet_tagged_sent  \\\n",
      "0      [(<user>, a), (<user>, n), (<user>, n), (<url>, n), (and, ), (<url>, n), (and, ), (<url>, v)]                                                                                                                                                                                                                                                                                                                                                                                                                                                                                              \n",
      "1      [(advice, n), (talk, n), (to, ), (your, ), (neighbours, n), (family, n), (to, ), (exchange, v), (phone, n), (numbers, n), (create, v), (contact, a), (list, n), (with, ), (phone, n), (numbers, n), (of, ), (neighbours, n), (schools, n), (employer, v), (chemist, a), (gt, n), (set, v), (up, r), (online, a), (shopping, n), (accounts, n), (if, ), (pos, a), (adequate, a), (supplies, n), (of, ), (regular, a), (mens, n), (but, ), (not, r), (over, ), (order, n)]                                                                                                                   \n",
      "2      [(coronavirus, n), (australia, n), (:, ), (woolworths, n), (to, ), (give, v), (elderly, a), (,, ), (disabled, v), (dedicated, v), (shopping, n), (hours, n), (amid, ), (covid, a), (<number>, n), (outbreak, n), (<url>, n)]                                                                                                                                                                                                                                                                                                                                                               \n",
      "3      [(my, ), (food, n), (stock, n), (is, v), (not, r), (the, ), (only, a), (one, ), (which, ), (is, v), (empty, a), (.., a), (please, n), (,, ), (do, v), (not, r), (panic, v), (,, ), (here, r), (will, ), (by, ), (enough, a), (od, n), (or, ), (everyone, n), (if, ), (you, ), (do, v), (not, r), (take, v), (more, a), (than, ), (you, ), (need, v), (., ), (stay, v), (calm, a), (,, ), (stay, a), (safe, a), (., ), (<hashtag>, a), (<hashtag>, a), (<hashtag>, n), (<hashtag>, n), (<hashtag>, n), (<hashtag>, n), (<hashtag>, n), (<url>, n)]                                          \n",
      "4      [(me, ), (,, ), (ready, a), (to, ), (go, v), (at, ), (supermarket, n), (during, ), (the, ), (<hashtag>, n), (outbreak, n), (., ), (not, r), (because, ), (i, n), (am, v), (paranoid, n), (,, ), (but, ), (because, ), (my, ), (food, n), (stock, n), (is, v), (literary, a), (empty, r), (., ), (the, ), (<hashtag>, n), (is, v), (a, ), (serious, a), (thing, n), (,, ), (but, ), (please, n), (,, ), (do, v), (not, r), (panic, v), (., ), (it, ), (causes, v), (shortage, a), (.., a), (<hashtag>, n), (<hashtag>, n), (<hashtag>, n), (<hashtag>, n), (<url>, n)]                      \n",
      "...                                                                                                                                                                                                                                                                                                                                                                                                                                                                                                                                                                      ...                      \n",
      "41152  [(airline, n), (pilots, n), (offering, v), (to, ), (stock, n), (supermarket, n), (shelves, n), (in, ), (<hashtag>, n), (lockdown, a), (<hashtag>, n), (<number>, n), (<url>, n)]                                                                                                                                                                                                                                                                                                                                                                                                           \n",
      "41153  [(response, n), (to, ), (complaint, v), (not, r), (provided, v), (citing, v), (covid, a), (<number>, n), (related, a), (delays, n), (., ), (yet, r), (prompt, a), (in, ), (rejecting, v), (policy, n), (before, ), (consumer, n), (at, ), (is, v), (over, r), (., ), (way, n), (to, ), (go, v), (?, )]                                                                                                                                                                                                                                                                                     \n",
      "41154  [(you, ), (know, v), (its, ), (getting, v), (tough, a), (when, ), (<user>, n), (is, v), (rationing, v), (toilet, a), (paper, n), (<hashtag>, n), (<hashtag>, n), (<user>, n), (martinsville, n), (,, ), (help, v), (us, ), (out, r), (!, ), (!, )]                                                                                                                                                                                                                                                                                                                                         \n",
      "41155  [(is, v), (it, ), (wrong, a), (that, ), (the, ), (smell, n), (of, ), (hand, n), (sanitizer, n), (is, v), (starting, v), (to, ), (turn, v), (me, ), (on, ), (?, ), (<hashtag>, a), (<hashtag>, n), (<hashtag>, n)]                                                                                                                                                                                                                                                                                                                                                                          \n",
      "41156  [(<user>, r), (well, r), (new, a), (/, n), (used, v), (rift, n), (s, n), (are, v), (going, v), (for, ), ($, ), (<number>, ), (on, ), (amazon, n), (rn, n), (although, ), (the, ), (normal, a), (market, n), (price, n), (is, v), (usually, r), ($, ), (<number>, n), (., ), (prices, n), (are, v), (really, r), (crazy, a), (right, n), (now, r), (for, ), (vr, n), (headset, n), (since, ), (l, n), (alex, n), (was, v), (announced, v), (and, ), (it, ), (is, v), (only, r), (been, v), (worse, a), (with, ), (covid, a), (<number>, n), (., ), (up, r), (to, ), (you, ), (whether, )]   \n",
      "\n",
      "                                                                                                                                                                                                                                                            Preprocessed_sentences  \\\n",
      "0      <user> <user> <user> <url> and <url> and <url>                                                                                                                                                                                                                                \n",
      "1      advice talk to your neighbour family to exchange phone number create contact list with phone number of neighbour school employer chemist gt set up online shopping account if pos adequate supply of regular men but not over order                                           \n",
      "2      coronavirus australia : woolworth to give elderly , disable dedicate shopping hour amid covid <number> outbreak <url>                                                                                                                                                         \n",
      "3      my food stock be not the only one which be empty .. please , do not panic , here will by enough od or everyone if you do not take more than you need . stay calm , stay safe . <hashtag> <hashtag> <hashtag> <hashtag> <hashtag> <hashtag> <hashtag> <url>                    \n",
      "4      me , ready to go at supermarket during the <hashtag> outbreak . not because i be paranoid , but because my food stock be literary empty . the <hashtag> be a serious thing , but please , do not panic . it cause shortage .. <hashtag> <hashtag> <hashtag> <hashtag> <url>   \n",
      "...                                                                                                                                                                                                                                                                            ...   \n",
      "41152  airline pilot offer to stock supermarket shelf in <hashtag> lockdown <hashtag> <number> <url>                                                                                                                                                                                 \n",
      "41153  response to complaint not provide cite covid <number> related delay . yet prompt in reject policy before consumer at be over . way to go ?                                                                                                                                    \n",
      "41154  you know its get tough when <user> be ration toilet paper <hashtag> <hashtag> <user> martinsville , help us out ! !                                                                                                                                                           \n",
      "41155  be it wrong that the smell of hand sanitizer be start to turn me on ? <hashtag> <hashtag> <hashtag>                                                                                                                                                                           \n",
      "41156  <user> well new / use rift s be go for $ <number> on amazon rn although the normal market price be usually $ <number> . price be really crazy right now for vr headset since l alex be announce and it be only be bad with covid <number> . up to you whether                 \n",
      "\n",
      "      Adjectives Nouns Others Verbs  Adverbs  \n",
      "0      1          4     2      1     0        \n",
      "1      6          17    9      4     2        \n",
      "2      2          8     4      3     0        \n",
      "3      10         11    16     8     4        \n",
      "4      5          15    20     7     3        \n",
      "...   ..          ..    ..    ..    ..        \n",
      "41152  1          9     2      1     0        \n",
      "41153  3          6     8      6     3        \n",
      "41154  2          6     7      5     1        \n",
      "41155  2          5     8      4     0        \n",
      "41156  5          15    17     9     7        \n",
      "\n",
      "[41157 rows x 24 columns]\n"
     ]
    }
   ],
   "source": [
    "print(train)"
   ]
  }
 ],
 "metadata": {
  "kernelspec": {
   "display_name": "Python 3",
   "language": "python",
   "name": "python3"
  },
  "language_info": {
   "codemirror_mode": {
    "name": "ipython",
    "version": 3
   },
   "file_extension": ".py",
   "mimetype": "text/x-python",
   "name": "python",
   "nbconvert_exporter": "python",
   "pygments_lexer": "ipython3",
   "version": "3.7.4"
  }
 },
 "nbformat": 4,
 "nbformat_minor": 2
}
